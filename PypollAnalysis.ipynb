Election Results
-------------------------
Total Votes: 369711
-------------------------
Raymon Anthony Doane: 1160600.000% (11606)
-------------------------
Winner: Diana DeGette
-------------------------
