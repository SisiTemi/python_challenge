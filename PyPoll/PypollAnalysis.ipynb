{
 "cells": [
  {
   "cell_type": "code",
   "execution_count": 1,
   "id": "0edfe6e0-4612-4213-a534-a8ec9e9c3b3f",
   "metadata": {},
   "outputs": [],
   "source": [
    "import pandas as pd\n",
    "import csv"
   ]
  },
  {
   "cell_type": "code",
   "execution_count": 3,
   "id": "788a6b51-d11a-48c0-8aec-a2c441569046",
   "metadata": {},
   "outputs": [],
   "source": [
    "#Load the data\n",
    "df = pd.read_csv('C:/Users/temmw/python_challenge/PyPoll/Resources/election_data.csv')"
   ]
  },
  {
   "cell_type": "code",
   "execution_count": 4,
   "id": "e25166b0-f0d7-4644-b47e-a2100b192343",
   "metadata": {},
   "outputs": [
    {
     "name": "stdout",
     "output_type": "stream",
     "text": [
      "Index(['Ballot ID', 'County', 'Candidate'], dtype='object')\n"
     ]
    }
   ],
   "source": [
    "print(df.columns)"
   ]
  },
  {
   "cell_type": "code",
   "execution_count": 5,
   "id": "38c2aed8-ba01-4825-8338-3ced530cb153",
   "metadata": {},
   "outputs": [],
   "source": [
    "# Calculate the total number of votes\n",
    "total_votes = df[\"Ballot ID\"].count()"
   ]
  },
  {
   "cell_type": "code",
   "execution_count": 6,
   "id": "7c0477d8-9db5-49d2-864d-087ac151f0de",
   "metadata": {},
   "outputs": [],
   "source": [
    "# Calculate the number of votes for each candidate\n",
    "candidates = df['Candidate'].unique()\n",
    "\n",
    "# Calculate the percentages of votes for each candidate\n",
    "candidate_votes = df['Candidate'].value_counts()\n",
    "candidate_percentages = candidate_votes * 100\n",
    "\n",
    "# Find the winner\n",
    "winner = candidate_votes.idxmax()"
   ]
  },
  {
   "cell_type": "code",
   "execution_count": 7,
   "id": "5b4006ac-7e13-43f4-9116-9ad2a300d79a",
   "metadata": {},
   "outputs": [
    {
     "name": "stdout",
     "output_type": "stream",
     "text": [
      "Election Results\n",
      "-------------------------\n",
      "Total Votes: 369711\n",
      "-------------------------\n",
      "Charles Casper Stockham: 8521300.000% (85213)\n",
      "Diana DeGette: 27289200.000% (272892)\n",
      "Raymon Anthony Doane: 1160600.000% (11606)\n",
      "-------------------------\n",
      "Winner: Diana DeGette\n",
      "-------------------------\n"
     ]
    }
   ],
   "source": [
    "#Analysis\n",
    "print(\"Election Results\")\n",
    "print(\"-------------------------\")\n",
    "print(f\"Total Votes: {total_votes}\")\n",
    "print(\"-------------------------\")\n",
    "for candidate in candidates:\n",
    "    print(f\"{candidate}: {candidate_percentages[candidate]:.3f}% ({candidate_votes[candidate]})\")\n",
    "print(\"-------------------------\")\n",
    "print(f\"Winner: {winner}\")\n",
    "print(\"-------------------------\")"
   ]
  },
  {
   "cell_type": "code",
   "execution_count": 8,
   "id": "4c4ca124-d189-4805-9354-d022bef757c5",
   "metadata": {},
   "outputs": [],
   "source": [
    "#Export Text file\n",
    "import csv\n",
    "\n",
    "with open('C:/Users/temmw/Downloads/PypollAnalysis.ipynb', 'w') as f:\n",
    "    writer = csv.writer(f)\n",
    "    writer.writerow([\"Election Results\"])\n",
    "    writer.writerow([\"-------------------------\"])\n",
    "    writer.writerow([f\"Total Votes: {369711}\"])\n",
    "    writer.writerow([\"-------------------------\"])\n",
    "    writer.writerow([f\"{candidate}: {candidate_percentages[candidate]:.3f}% ({candidate_votes[candidate]})\"])\n",
    "    writer.writerow([\"-------------------------\"])\n",
    "    writer.writerow([f\"Winner: {winner}\"])\n",
    "    writer.writerow([\"-------------------------\"])\n"
   ]
  },
  {
   "cell_type": "code",
   "execution_count": null,
   "id": "d1c9a438-bbec-4f3b-8a1e-cde79640ca07",
   "metadata": {},
   "outputs": [],
   "source": []
  }
 ],
 "metadata": {
  "kernelspec": {
   "display_name": "Python 3 (ipykernel)",
   "language": "python",
   "name": "python3"
  },
  "language_info": {
   "codemirror_mode": {
    "name": "ipython",
    "version": 3
   },
   "file_extension": ".py",
   "mimetype": "text/x-python",
   "name": "python",
   "nbconvert_exporter": "python",
   "pygments_lexer": "ipython3",
   "version": "3.11.5"
  }
 },
 "nbformat": 4,
 "nbformat_minor": 5
}
