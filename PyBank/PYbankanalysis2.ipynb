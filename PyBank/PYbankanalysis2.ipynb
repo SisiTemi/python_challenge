{
 "cells": [
  {
   "cell_type": "code",
   "execution_count": 2,
   "metadata": {},
   "outputs": [],
   "source": [
    "import pandas as pd\n",
    "import csv"
   ]
  },
  {
   "cell_type": "code",
   "execution_count": 4,
   "metadata": {},
   "outputs": [],
   "source": [
    "#load the data\n",
    "df = pd.read_csv(\"C:/Users/temmw/python_challenge/PyBank/Resources/budget_data.csv\")"
   ]
  },
  {
   "cell_type": "code",
   "execution_count": 6,
   "metadata": {},
   "outputs": [],
   "source": [
    "# Calculate total months\n",
    "total_months = df['Date'].count()\n",
    "    \n",
    "# Sum of profit/losses\n",
    "total_amount = df['Profit/Losses'].sum()\n",
    "    \n",
    "# Compute changes\n",
    "df['Change'] = df['Profit/Losses'].diff()\n",
    "average_change = df['Change'].mean()\n",
    "    \n",
    "greatest_increase = df['Change'].max()\n",
    "greatest_increase_date = df.loc[df['Change'] == greatest_increase, 'Date'].iloc[0]\n",
    "    \n",
    "greatest_decrease = df['Change'].min()\n",
    "greatest_decrease_date = df.loc[df['Change'] == greatest_decrease, 'Date'].iloc[0]"
   ]
  },
  {
   "cell_type": "code",
   "execution_count": 7,
   "metadata": {},
   "outputs": [
    {
     "name": "stdout",
     "output_type": "stream",
     "text": [
      "Financial Analysis\n",
      "----------------------------\n",
      "Total Months: 86\n",
      "Total: $22564198\n",
      "Average Change: $-8311.11\n",
      "Greatest Increase in Profits: Aug-16 ($1862002.0)\n",
      "Greatest Decrease in Profits: Feb-14 ($-1825558.0)\n"
     ]
    }
   ],
   "source": [
    "#Print the analysis\n",
    "print(\"Financial Analysis\")\n",
    "print(\"----------------------------\")\n",
    "print(f\"Total Months: {total_months}\")\n",
    "print(f\"Total: ${total_amount}\")\n",
    "print(f\"Average Change: ${average_change:.2f}\")\n",
    "print(f\"Greatest Increase in Profits: {greatest_increase_date} (${greatest_increase})\")\n",
    "print(f\"Greatest Decrease in Profits: {greatest_decrease_date} (${greatest_decrease})\")"
   ]
  },
  {
   "cell_type": "code",
   "execution_count": 8,
   "metadata": {},
   "outputs": [],
   "source": [
    "with open('C:/Users/temmw/Downloads/PyBankanalysis.ipynb', 'w') as f:\n",
    "        writer = csv.writer(f)\n",
    "        writer.writerow([\"Financial Analysis\"])\n",
    "        writer.writerow([\"----------------------------\"])\n",
    "        writer.writerow([f\"Total Months: {total_months}\"])\n",
    "        writer.writerow([f\"Total: ${total_amount}\"])\n",
    "        writer.writerow([f\"Average Change: ${average_change:.2f}\"])\n",
    "        writer.writerow([f\"Greatest Increase in Profits: {greatest_increase_date} (${greatest_increase})\"])\n",
    "        writer.writerow([f\"Greatest Decrease in Profits: {greatest_decrease_date} (${greatest_decrease})\"])"
   ]
  }
 ],
 "metadata": {
  "kernelspec": {
   "display_name": "Python 3",
   "language": "python",
   "name": "python3"
  },
  "language_info": {
   "codemirror_mode": {
    "name": "ipython",
    "version": 3
   },
   "file_extension": ".py",
   "mimetype": "text/x-python",
   "name": "python",
   "nbconvert_exporter": "python",
   "pygments_lexer": "ipython3",
   "version": "3.11.5"
  }
 },
 "nbformat": 4,
 "nbformat_minor": 2
}
